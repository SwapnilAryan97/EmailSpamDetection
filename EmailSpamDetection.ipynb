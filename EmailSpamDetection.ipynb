{
  "nbformat": 4,
  "nbformat_minor": 0,
  "metadata": {
    "colab": {
      "name": "EmailSpamDetection.ipynb",
      "provenance": [],
      "include_colab_link": true
    },
    "kernelspec": {
      "name": "python3",
      "display_name": "Python 3"
    }
  },
  "cells": [
    {
      "cell_type": "markdown",
      "metadata": {
        "id": "view-in-github",
        "colab_type": "text"
      },
      "source": [
        "<a href=\"https://colab.research.google.com/github/SwapnilAryan97/EmailSpamDetection/blob/master/EmailSpamDetection.ipynb\" target=\"_parent\"><img src=\"https://colab.research.google.com/assets/colab-badge.svg\" alt=\"Open In Colab\"/></a>"
      ]
    },
    {
      "cell_type": "markdown",
      "metadata": {
        "id": "180DPEQU9Xjp",
        "colab_type": "text"
      },
      "source": [
        "Importing the libraries"
      ]
    },
    {
      "cell_type": "code",
      "metadata": {
        "id": "adY_438y8iBJ",
        "colab_type": "code",
        "colab": {
          "base_uri": "https://localhost:8080/",
          "height": 51
        },
        "outputId": "614d7a2a-9613-4290-b60f-fdd10df51b31"
      },
      "source": [
        "import pandas as pd\n",
        "import numpy as np\n",
        "import re\n",
        "import nltk\n",
        "nltk.download('stopwords')\n",
        "from nltk.corpus import stopwords\n",
        "from nltk.stem.porter import PorterStemmer"
      ],
      "execution_count": null,
      "outputs": [
        {
          "output_type": "stream",
          "text": [
            "[nltk_data] Downloading package stopwords to /root/nltk_data...\n",
            "[nltk_data]   Unzipping corpora/stopwords.zip.\n"
          ],
          "name": "stdout"
        }
      ]
    },
    {
      "cell_type": "markdown",
      "metadata": {
        "id": "zSd70m8U9i3e",
        "colab_type": "text"
      },
      "source": [
        "Importing the dataset"
      ]
    },
    {
      "cell_type": "code",
      "metadata": {
        "id": "D3_nfeh_9jse",
        "colab_type": "code",
        "colab": {
          "base_uri": "https://localhost:8080/",
          "height": 272
        },
        "outputId": "cf0a8312-ac76-480c-e901-d9fea63252e4"
      },
      "source": [
        "url = 'https://raw.githubusercontent.com/SwapnilAryan97/EmailSpamDetection/master/emails.csv'\n",
        "dataset = pd.read_csv(url)\n",
        "print(dataset)\n",
        "row_size = dataset.shape[0]\n",
        "print(row_size)"
      ],
      "execution_count": null,
      "outputs": [
        {
          "output_type": "stream",
          "text": [
            "                                                   text  spam\n",
            "0     Subject: naturally irresistible your corporate...     1\n",
            "1     Subject: the stock trading gunslinger  fanny i...     1\n",
            "2     Subject: unbelievable new homes made easy  im ...     1\n",
            "3     Subject: 4 color printing special  request add...     1\n",
            "4     Subject: do not have money , get software cds ...     1\n",
            "...                                                 ...   ...\n",
            "5723  Subject: re : research and development charges...     0\n",
            "5724  Subject: re : receipts from visit  jim ,  than...     0\n",
            "5725  Subject: re : enron case study update  wow ! a...     0\n",
            "5726  Subject: re : interest  david ,  please , call...     0\n",
            "5727  Subject: news : aurora 5 . 2 update  aurora ve...     0\n",
            "\n",
            "[5728 rows x 2 columns]\n",
            "5728\n"
          ],
          "name": "stdout"
        }
      ]
    },
    {
      "cell_type": "markdown",
      "metadata": {
        "id": "yv5NuoE599Tq",
        "colab_type": "text"
      },
      "source": [
        "Cleaning the texts"
      ]
    },
    {
      "cell_type": "code",
      "metadata": {
        "id": "PSuYot1A98_o",
        "colab_type": "code",
        "colab": {}
      },
      "source": [
        "corpus = []\n",
        "for i in range (0, row_size):\n",
        "    review = re.sub('[^a-zA-Z]', ' ', dataset['text'][i])\n",
        "    review = review.lower()\n",
        "    review = review.split()\n",
        "    ps = PorterStemmer()\n",
        "    all_stopwords = stopwords.words('english')\n",
        "    review = [ps.stem(word) for word in review if not word in set(all_stopwords)]\n",
        "    review = ' '.join(review)\n",
        "    corpus.append(review)"
      ],
      "execution_count": null,
      "outputs": []
    },
    {
      "cell_type": "markdown",
      "metadata": {
        "id": "HXXtI2K5A04J",
        "colab_type": "text"
      },
      "source": [
        "Creating Bag of Words"
      ]
    },
    {
      "cell_type": "code",
      "metadata": {
        "id": "1Rf4qbE-BCWl",
        "colab_type": "code",
        "colab": {}
      },
      "source": [
        "from sklearn.feature_extraction.text import CountVectorizer\n",
        "cv = CountVectorizer(max_features = len(corpus) )\n",
        "x = cv.fit_transform(corpus).toarray()\n",
        "y = dataset.iloc[:, -1].values"
      ],
      "execution_count": null,
      "outputs": []
    },
    {
      "cell_type": "markdown",
      "metadata": {
        "id": "PdOl4G6uG9Ii",
        "colab_type": "text"
      },
      "source": [
        "Splitting dataset into Training and Testing set"
      ]
    },
    {
      "cell_type": "code",
      "metadata": {
        "id": "YFDq9woCHCKA",
        "colab_type": "code",
        "colab": {}
      },
      "source": [
        "from sklearn.model_selection import train_test_split\n",
        "x_train, x_test, y_train, y_test = train_test_split(x, y, test_size = 0.2)"
      ],
      "execution_count": null,
      "outputs": []
    },
    {
      "cell_type": "markdown",
      "metadata": {
        "id": "KAXwaJrnNiWx",
        "colab_type": "text"
      },
      "source": [
        "Kernel SVC"
      ]
    },
    {
      "cell_type": "code",
      "metadata": {
        "id": "uHkMqkaXM7YS",
        "colab_type": "code",
        "colab": {
          "base_uri": "https://localhost:8080/",
          "height": 85
        },
        "outputId": "9c22ef3c-7f9e-4c93-aace-d1962ecd1bef"
      },
      "source": [
        "from sklearn.svm import SVC\n",
        "classifier = SVC(kernel = 'rbf')\n",
        "classifier.fit(x_train, y_train)"
      ],
      "execution_count": null,
      "outputs": [
        {
          "output_type": "execute_result",
          "data": {
            "text/plain": [
              "SVC(C=1.0, break_ties=False, cache_size=200, class_weight=None, coef0=0.0,\n",
              "    decision_function_shape='ovr', degree=3, gamma='scale', kernel='rbf',\n",
              "    max_iter=-1, probability=False, random_state=None, shrinking=True,\n",
              "    tol=0.001, verbose=False)"
            ]
          },
          "metadata": {
            "tags": []
          },
          "execution_count": 8
        }
      ]
    },
    {
      "cell_type": "markdown",
      "metadata": {
        "id": "BqlTsAAJJG03",
        "colab_type": "text"
      },
      "source": [
        "Predicting Test Set result"
      ]
    },
    {
      "cell_type": "code",
      "metadata": {
        "id": "QtPAawulJJLO",
        "colab_type": "code",
        "colab": {
          "base_uri": "https://localhost:8080/",
          "height": 136
        },
        "outputId": "01c68d85-91c8-4f5a-8af2-843257c3a1e8"
      },
      "source": [
        "y_pred = classifier.predict(x_test)\n",
        "print(np.concatenate((y_pred.reshape(len(y_pred), 1), y_test.reshape(len(y_test), 1)), 1))"
      ],
      "execution_count": null,
      "outputs": [
        {
          "output_type": "stream",
          "text": [
            "[[0 0]\n",
            " [0 0]\n",
            " [1 1]\n",
            " ...\n",
            " [1 1]\n",
            " [0 0]\n",
            " [0 0]]\n"
          ],
          "name": "stdout"
        }
      ]
    },
    {
      "cell_type": "markdown",
      "metadata": {
        "id": "RoRSqwswKA89",
        "colab_type": "text"
      },
      "source": [
        "Making Confusion Matrix & Accuracy Score"
      ]
    },
    {
      "cell_type": "code",
      "metadata": {
        "id": "wLxq5C_WKGeU",
        "colab_type": "code",
        "colab": {
          "base_uri": "https://localhost:8080/",
          "height": 68
        },
        "outputId": "c4f28c10-e12d-49ac-f60e-28b357cc3d51"
      },
      "source": [
        "from sklearn.metrics import confusion_matrix, accuracy_score\n",
        "cm = confusion_matrix(y_test, y_pred)\n",
        "print(cm)\n",
        "print('Accuracy is: {:.2f}%'.format(accuracy_score(y_test, y_pred)*100))"
      ],
      "execution_count": null,
      "outputs": [
        {
          "output_type": "stream",
          "text": [
            "[[848   3]\n",
            " [ 25 270]]\n",
            "Accuracy is: 97.56%\n"
          ],
          "name": "stdout"
        }
      ]
    },
    {
      "cell_type": "markdown",
      "metadata": {
        "id": "WBGB5kIbQEmx",
        "colab_type": "text"
      },
      "source": [
        "Applying k-Fold Cross Validation"
      ]
    },
    {
      "cell_type": "code",
      "metadata": {
        "id": "HPD3w2nPQFSP",
        "colab_type": "code",
        "colab": {}
      },
      "source": [
        "from sklearn.model_selection import cross_val_score\n",
        "accuracies = cross_val_score(estimator = classifier, X = x_train, y = y_train, cv = 10)\n",
        "print('Accuracy: {:.2f}%'.format(accuracies.mean()*100))"
      ],
      "execution_count": null,
      "outputs": []
    },
    {
      "cell_type": "markdown",
      "metadata": {
        "id": "XY6gbUsJQ_r-",
        "colab_type": "text"
      },
      "source": [
        "Grid Search to find best model and best parameter"
      ]
    },
    {
      "cell_type": "code",
      "metadata": {
        "id": "dOHU7TrNRF4z",
        "colab_type": "code",
        "colab": {}
      },
      "source": [
        "from sklearn.model_selection import GridSearchCV\n",
        "parameters = [{'C':[0.25, 0.5, 0.75, 1], \n",
        "              'kernel' : ['rbf'],\n",
        "              'gamma': [0.1, 0.2, 0.3, 0.4, 0.5, 0.6, 0.7, 0.8, 0.9]}]\n",
        "grid_search = GridSearchCV(estimator = classifier,\n",
        "                           param_grid = parameters,\n",
        "                           scoring = 'accuracy',\n",
        "                           cv = 10)\n",
        "grid_search.fit(x_train, y_train)\n",
        "best_accuracy = grid_search.best_score_\n",
        "best_parameters = grid_search.best_params_\n",
        "print(\"Best Accuracy: {:.2f} %\".format(best_accuracy*100))\n",
        "print(\"Best Parameters:\", best_parameters)"
      ],
      "execution_count": null,
      "outputs": []
    }
  ]
}